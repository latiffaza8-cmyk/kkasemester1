{
  "nbformat": 4,
  "nbformat_minor": 0,
  "metadata": {
    "colab": {
      "provenance": [],
      "authorship_tag": "ABX9TyPKBdVLvW8QeSPae65W40uO",
      "include_colab_link": true
    },
    "kernelspec": {
      "name": "python3",
      "display_name": "Python 3"
    },
    "language_info": {
      "name": "python"
    }
  },
  "cells": [
    {
      "cell_type": "markdown",
      "metadata": {
        "id": "view-in-github",
        "colab_type": "text"
      },
      "source": [
        "<a href=\"https://colab.research.google.com/github/latiffaza8-cmyk/kkasemester1/blob/main/3_Simple_app_ball_volume_XI_1_M_Faza_Nurdiansyah_Latif.ipynb\" target=\"_parent\"><img src=\"https://colab.research.google.com/assets/colab-badge.svg\" alt=\"Open In Colab\"/></a>"
      ]
    },
    {
      "cell_type": "markdown",
      "source": [
        "Nama: M.Faza Nurdiansyah Latif\n",
        "Kelas: XI.1\n",
        "Absen: 26\n",
        "Nama Kelompok: Perfect"
      ],
      "metadata": {
        "id": "h_Kw1lOykKpl"
      }
    },
    {
      "cell_type": "markdown",
      "source": [
        "#Aplikasi Sederhana Menghitung Volume"
      ],
      "metadata": {
        "id": "h5U-72KJkoQV"
      }
    },
    {
      "cell_type": "code",
      "source": [
        "jari_jari = float(input(\"masukkan jari jari kerucut: \"))\n",
        "tinggi = float(input(\"masukkan tinggi kerucut: \"))\n",
        "pi = 3.14\n",
        "\n",
        "volume = (1/3) * pi * (jari_jari**2) * tinggi\n",
        "print(f\" volume kerucut adalah {volume} cm^3\")"
      ],
      "metadata": {
        "colab": {
          "base_uri": "https://localhost:8080/"
        },
        "id": "d3OMVDOGktfg",
        "outputId": "c6cdcc29-3056-4127-fcb2-183eb859e05c"
      },
      "execution_count": 1,
      "outputs": [
        {
          "output_type": "stream",
          "name": "stdout",
          "text": [
            "masukkan jari jari kerucut: 7\n",
            "masukkan tinggi kerucut: 10\n",
            " volume kerucut adalah 512.8666666666666 cm^3\n"
          ]
        }
      ]
    }
  ]
}