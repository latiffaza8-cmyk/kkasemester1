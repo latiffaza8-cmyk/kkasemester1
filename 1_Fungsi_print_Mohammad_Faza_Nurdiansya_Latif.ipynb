{
  "nbformat": 4,
  "nbformat_minor": 0,
  "metadata": {
    "colab": {
      "provenance": [],
      "authorship_tag": "ABX9TyPSz8HPsN+QjHddy4nqxqZP",
      "include_colab_link": true
    },
    "kernelspec": {
      "name": "python3",
      "display_name": "Python 3"
    },
    "language_info": {
      "name": "python"
    }
  },
  "cells": [
    {
      "cell_type": "markdown",
      "metadata": {
        "id": "view-in-github",
        "colab_type": "text"
      },
      "source": [
        "<a href=\"https://colab.research.google.com/github/latiffaza8-cmyk/kkasemester1/blob/main/1_Fungsi_print_Mohammad_Faza_Nurdiansya_Latif.ipynb\" target=\"_parent\"><img src=\"https://colab.research.google.com/assets/colab-badge.svg\" alt=\"Open In Colab\"/></a>"
      ]
    },
    {
      "cell_type": "markdown",
      "source": [
        "#Menampilkan Teks Bebas"
      ],
      "metadata": {
        "id": "83C9sGHnD0_H"
      }
    },
    {
      "cell_type": "code",
      "execution_count": null,
      "metadata": {
        "colab": {
          "base_uri": "https://localhost:8080/"
        },
        "id": "8fdLx0lhFFDa",
        "outputId": "5ddf06df-3512-49fd-ffb7-b6dd8f63421a"
      },
      "outputs": [
        {
          "output_type": "stream",
          "name": "stdout",
          "text": [
            "Halo dunia\n"
          ]
        }
      ],
      "source": [
        "print(\"Halo dunia\")"
      ]
    },
    {
      "cell_type": "code",
      "source": [
        "print(\"selamat datang di phyton\")"
      ],
      "metadata": {
        "colab": {
          "base_uri": "https://localhost:8080/"
        },
        "id": "KUk6Jl9CBNpF",
        "outputId": "ede4517c-ea3b-48e0-df67-24bf464307b4"
      },
      "execution_count": null,
      "outputs": [
        {
          "output_type": "stream",
          "name": "stdout",
          "text": [
            "selamat datang di phyton\n"
          ]
        }
      ]
    },
    {
      "cell_type": "code",
      "source": [
        "print(\"Mohammad Faza Nurdiansyah Latif\")"
      ],
      "metadata": {
        "colab": {
          "base_uri": "https://localhost:8080/"
        },
        "id": "Dk5FGPaDBVz7",
        "outputId": "3e531111-f52e-4ce4-c9c6-e63de648e3e5"
      },
      "execution_count": null,
      "outputs": [
        {
          "output_type": "stream",
          "name": "stdout",
          "text": [
            "Mohammad Faza Nurdiansyah Latif\n"
          ]
        }
      ]
    },
    {
      "cell_type": "markdown",
      "source": [
        "#Variabel"
      ],
      "metadata": {
        "id": "dah0vTenFZc3"
      }
    },
    {
      "cell_type": "code",
      "source": [
        "BB = 51\n",
        "print(BB)"
      ],
      "metadata": {
        "colab": {
          "base_uri": "https://localhost:8080/"
        },
        "id": "SNFOT88RFcP5",
        "outputId": "a6cd2039-4816-4327-f09c-a8f84c5dad7b"
      },
      "execution_count": null,
      "outputs": [
        {
          "output_type": "stream",
          "name": "stdout",
          "text": [
            "51\n"
          ]
        }
      ]
    },
    {
      "cell_type": "code",
      "source": [
        "umur = 16\n",
        "print(umur)"
      ],
      "metadata": {
        "colab": {
          "base_uri": "https://localhost:8080/"
        },
        "id": "rQBxhj3xFj3O",
        "outputId": "c82b76fc-6f04-4cf3-81b4-9aa79f452a8d"
      },
      "execution_count": null,
      "outputs": [
        {
          "output_type": "stream",
          "name": "stdout",
          "text": [
            "16\n"
          ]
        }
      ]
    },
    {
      "cell_type": "code",
      "source": [
        "nama = \"Mohammad Faza Nurdiansyah Latif\"\n",
        "print(nama)"
      ],
      "metadata": {
        "colab": {
          "base_uri": "https://localhost:8080/"
        },
        "id": "20ojzXhlFvhw",
        "outputId": "61519024-76f6-418c-d128-741beef45be2"
      },
      "execution_count": null,
      "outputs": [
        {
          "output_type": "stream",
          "name": "stdout",
          "text": [
            "Mohammad Faza Nurdiansyah Latif\n"
          ]
        }
      ]
    },
    {
      "cell_type": "markdown",
      "source": [
        "#Menampilkan Variabel dan Teks Bebas"
      ],
      "metadata": {
        "id": "0OF2rCu7DN-s"
      }
    },
    {
      "cell_type": "code",
      "source": [
        "print(f\"umur saya {umur} tahun\")"
      ],
      "metadata": {
        "colab": {
          "base_uri": "https://localhost:8080/"
        },
        "id": "Lvh8CoX4I3hf",
        "outputId": "e2842e83-128c-450b-9459-0d847e482952"
      },
      "execution_count": null,
      "outputs": [
        {
          "output_type": "stream",
          "name": "stdout",
          "text": [
            "umur saya 16 tahun\n"
          ]
        }
      ]
    },
    {
      "cell_type": "code",
      "source": [
        "print(\"halo\", nama)"
      ],
      "metadata": {
        "colab": {
          "base_uri": "https://localhost:8080/"
        },
        "id": "ibm4o43qKFXg",
        "outputId": "c481fa71-3b6c-4f5d-d60d-0760ee17f264"
      },
      "execution_count": null,
      "outputs": [
        {
          "output_type": "stream",
          "name": "stdout",
          "text": [
            "halo Mohammad Faza Nurdiansyah Latif\n"
          ]
        }
      ]
    },
    {
      "cell_type": "code",
      "source": [
        "harga_telur = 26000\n",
        "print(\"Harga telur per 1 kg adalah\", harga_telur)"
      ],
      "metadata": {
        "id": "h4l1qNelBxOO",
        "colab": {
          "base_uri": "https://localhost:8080/"
        },
        "outputId": "ccf7fe00-1212-4bf5-f4ef-69e72f0dd17e"
      },
      "execution_count": null,
      "outputs": [
        {
          "output_type": "stream",
          "name": "stdout",
          "text": [
            "Harga telur per 1 kg adalah 26000\n"
          ]
        }
      ]
    },
    {
      "cell_type": "code",
      "source": [
        "harga_telur = 26000\n",
        "print(\"Harga telur per 1 kg adalah \" + str(harga_telur))"
      ],
      "metadata": {
        "colab": {
          "base_uri": "https://localhost:8080/"
        },
        "id": "VoBr5w0xEcZZ",
        "outputId": "b9bea128-bdb0-48af-f7c6-16b20bf222e2"
      },
      "execution_count": null,
      "outputs": [
        {
          "output_type": "stream",
          "name": "stdout",
          "text": [
            "Harga telur per 1 kg adalah 26000\n"
          ]
        }
      ]
    },
    {
      "cell_type": "code",
      "source": [
        "nama_pembeli = \"Rafael\"\n",
        "print(\"Nama pembeli telur adalah\"  + nama_pembeli)"
      ],
      "metadata": {
        "colab": {
          "base_uri": "https://localhost:8080/"
        },
        "id": "8tqu39SIDZIL",
        "outputId": "35c77e00-6bb5-4bdf-b1e4-c18c7c47d089"
      },
      "execution_count": null,
      "outputs": [
        {
          "output_type": "stream",
          "name": "stdout",
          "text": [
            "Nama pembeli telur adalahRafael\n"
          ]
        }
      ]
    },
    {
      "cell_type": "markdown",
      "source": [
        "#Escape Character"
      ],
      "metadata": {
        "id": "qkk9fG3AJLaq"
      }
    },
    {
      "cell_type": "code",
      "source": [
        "print(\"Nama: Mohammad Faza Nurdiansyah Latif \")\n",
        "print(\"Kelas: XI.1\")\n",
        "print(\"Nomor absen: 26\")"
      ],
      "metadata": {
        "colab": {
          "base_uri": "https://localhost:8080/"
        },
        "id": "S3BdrY0iJPq4",
        "outputId": "3954d16d-50ed-4d5c-a50e-200feca018ca"
      },
      "execution_count": null,
      "outputs": [
        {
          "output_type": "stream",
          "name": "stdout",
          "text": [
            "Nama: Mohammad Faza Nurdiansyah Latif \n",
            "Kelas: XI.1\n",
            "Nomor absen: 26\n"
          ]
        }
      ]
    },
    {
      "cell_type": "code",
      "source": [
        "print(\"Nama\\t\\t: Mohammad Faza Nurdiansyah Latif\\nKelas\\t\\t: XI.1\\nNomor absen\\t: 26\")"
      ],
      "metadata": {
        "colab": {
          "base_uri": "https://localhost:8080/"
        },
        "id": "GpnmJ49BKWwE",
        "outputId": "40b7535b-ceec-4158-d09e-b4667af9b48e"
      },
      "execution_count": null,
      "outputs": [
        {
          "output_type": "stream",
          "name": "stdout",
          "text": [
            "Nama\t\t: Mohammad Faza Nurdiansyah Latif\n",
            "Kelas\t\t: XI.1\n",
            "Nomor absen\t: 26\n"
          ]
        }
      ]
    },
    {
      "cell_type": "code",
      "source": [
        "print(\"\"\"Nama: Mohammad Faza Nurdiansyah Latif\n",
        "Kelas: XI.1\n",
        "Nomor absen:26\"\"\")"
      ],
      "metadata": {
        "colab": {
          "base_uri": "https://localhost:8080/"
        },
        "id": "oI6TqlN1K4IC",
        "outputId": "fba91089-2684-42d2-b2dd-2fb050d94716"
      },
      "execution_count": null,
      "outputs": [
        {
          "output_type": "stream",
          "name": "stdout",
          "text": [
            "Nama: Mohammad Faza Nurdiansyah Latif\n",
            "Kelas: XI.1\n",
            "Nomor absen:26\n"
          ]
        }
      ]
    },
    {
      "cell_type": "code",
      "source": [
        "print('ja\\'far shodiq')"
      ],
      "metadata": {
        "colab": {
          "base_uri": "https://localhost:8080/"
        },
        "id": "qrrK1ORhCP4R",
        "outputId": "f0500115-43b1-4934-d407-6eb51caebc95"
      },
      "execution_count": null,
      "outputs": [
        {
          "output_type": "stream",
          "name": "stdout",
          "text": [
            "ja'far shodiq\n"
          ]
        }
      ]
    },
    {
      "cell_type": "code",
      "source": [
        "print(\"ja'far shodiq\")"
      ],
      "metadata": {
        "colab": {
          "base_uri": "https://localhost:8080/"
        },
        "id": "VcWsvfPjCbax",
        "outputId": "b7a64669-5df9-4af5-f70f-4885ed2097c5"
      },
      "execution_count": null,
      "outputs": [
        {
          "output_type": "stream",
          "name": "stdout",
          "text": [
            "ja'far shodiq\n"
          ]
        }
      ]
    },
    {
      "cell_type": "code",
      "source": [
        "print(\"Bu Shinta berkata, \\\"Semua harus menyimak pelajaran.\\\"\")"
      ],
      "metadata": {
        "colab": {
          "base_uri": "https://localhost:8080/"
        },
        "id": "aDZtJtcrCjL2",
        "outputId": "73b32c9d-5673-478d-ae44-51992909bff7"
      },
      "execution_count": null,
      "outputs": [
        {
          "output_type": "stream",
          "name": "stdout",
          "text": [
            "Bu Shinta berkata, \"Semua harus menyimak pelajaran.\"\n"
          ]
        }
      ]
    },
    {
      "cell_type": "code",
      "source": [
        "print('Bu Shinta berkata, \"Semua harus menyimak pelajaran.\"')"
      ],
      "metadata": {
        "colab": {
          "base_uri": "https://localhost:8080/"
        },
        "id": "d4Vo9CeWCzMu",
        "outputId": "b3cb6d24-4761-48de-feb1-885bdd089be6"
      },
      "execution_count": null,
      "outputs": [
        {
          "output_type": "stream",
          "name": "stdout",
          "text": [
            "Bu Shinta berkata, \"Semua harus menyimak pelajaran.\"\n"
          ]
        }
      ]
    },
    {
      "cell_type": "code",
      "source": [
        "print(\"lokasi file video karnaval ada di D:\\\\Karnaval 2025\\\\mp4\")"
      ],
      "metadata": {
        "colab": {
          "base_uri": "https://localhost:8080/"
        },
        "id": "KzzOs4OfD64m",
        "outputId": "82b03843-f19a-44e4-df78-08e476f94775"
      },
      "execution_count": null,
      "outputs": [
        {
          "output_type": "stream",
          "name": "stdout",
          "text": [
            "lokasi file video karnaval ada di D:\\Karnaval 2025\\mp4\n"
          ]
        }
      ]
    },
    {
      "cell_type": "markdown",
      "source": [
        "#Parameter Fungsi print"
      ],
      "metadata": {
        "id": "OnqchLrJGw7f"
      }
    },
    {
      "cell_type": "code",
      "source": [
        "tahun = 2009\n",
        "bulan = \"Juli\"\n",
        "tanggal = 21\n",
        "\n",
        "print(tanggal)\n",
        "print(bulan)\n",
        "print(tahun)"
      ],
      "metadata": {
        "colab": {
          "base_uri": "https://localhost:8080/"
        },
        "id": "FAslVrj1G3NI",
        "outputId": "272feeeb-ba9f-4f71-fba0-b846f99554f8"
      },
      "execution_count": null,
      "outputs": [
        {
          "output_type": "stream",
          "name": "stdout",
          "text": [
            "21\n",
            "Juli\n",
            "2009\n"
          ]
        }
      ]
    },
    {
      "cell_type": "code",
      "source": [
        "tahun = 2009\n",
        "bulan = \"Juli\"\n",
        "tanggal = 21\n",
        "\n",
        "print(tanggal, end=\" \")\n",
        "print(bulan, end=\" \")\n",
        "print(tahun)"
      ],
      "metadata": {
        "colab": {
          "base_uri": "https://localhost:8080/"
        },
        "id": "uZ6d80zoItFA",
        "outputId": "618af15f-f01e-4962-e2fb-5d477215c8cf"
      },
      "execution_count": null,
      "outputs": [
        {
          "output_type": "stream",
          "name": "stdout",
          "text": [
            "21 Juli 2009\n"
          ]
        }
      ]
    },
    {
      "cell_type": "code",
      "source": [
        "tahun = 2009\n",
        "bulan = \"Juli\"\n",
        "tanggal = 21\n",
        "\n",
        "print(tanggal, bulan, tahun, sep=\"/\")"
      ],
      "metadata": {
        "colab": {
          "base_uri": "https://localhost:8080/"
        },
        "id": "a1dMJx2_HRbj",
        "outputId": "5d45fea1-39a1-4610-dad8-cf48a9a5ae35"
      },
      "execution_count": null,
      "outputs": [
        {
          "output_type": "stream",
          "name": "stdout",
          "text": [
            "21/Juli/2009\n"
          ]
        }
      ]
    },
    {
      "cell_type": "markdown",
      "source": [
        "#Latihan:\n",
        "\n",
        "Tanggal-Bulan-Tahun"
      ],
      "metadata": {
        "id": "TjcJovNzHiVI"
      }
    },
    {
      "cell_type": "code",
      "source": [
        "nama_depan = \"Mohammad\"\n",
        "nama_belakang = \"Latif\"\n",
        "\n",
        "print(nama_depan, nama_belakang)"
      ],
      "metadata": {
        "colab": {
          "base_uri": "https://localhost:8080/"
        },
        "id": "ztQTxQIHH3oC",
        "outputId": "56aaab70-b78c-4d30-a970-92e1b6eedb0a"
      },
      "execution_count": null,
      "outputs": [
        {
          "output_type": "stream",
          "name": "stdout",
          "text": [
            "Mohammad Latif\n"
          ]
        }
      ]
    },
    {
      "cell_type": "code",
      "source": [
        "nama_depan = \"Mohammad\"\n",
        "nama_belakang = \"Latif\"\n",
        "\n",
        "print(nama_depan, end=\" \")\n",
        "print(nama_belakang, end=\" \")"
      ],
      "metadata": {
        "colab": {
          "base_uri": "https://localhost:8080/"
        },
        "id": "fs3yc_vbIJe0",
        "outputId": "c9b9525f-7b02-4c2f-9a4d-399c33b966fb"
      },
      "execution_count": null,
      "outputs": [
        {
          "output_type": "stream",
          "name": "stdout",
          "text": [
            "Mohammad Latif "
          ]
        }
      ]
    },
    {
      "cell_type": "markdown",
      "source": [
        "#Soal latihan Pemrograman Python"
      ],
      "metadata": {
        "id": "oX16uAwHL4TC"
      }
    },
    {
      "cell_type": "code",
      "source": [
        "print('Bu Shinta berkata, \"berikut adalah judul pelajaran hari senin selasa rabu silakan disimpan di laptop masing-masing di folder local disk D:\\\\Jadwal Pelajaran\\\\Kelas XI Semester I.\"\\n')\n",
        "print(\"Jadwal Pelajaran Mingguan\")\n",
        "print(\"===============================\")\n",
        "print(\"Jam\\tsenin\\t\\tselasa\\t\\trabu\")\n",
        "print(\"Jam 1\\tMatematika\\tBahasa\\t\\tInformatika\")\n",
        "print(\"Jam 2\\tBahasa Ing.\\tSejarah\\t\\tMa\\'rifatullah\")\n",
        "print(\"Jam 3\\tInformatika\\tOlahraga\\tBiologi\")"
      ],
      "metadata": {
        "colab": {
          "base_uri": "https://localhost:8080/"
        },
        "id": "MaLS4J-fL_XC",
        "outputId": "5344529b-956b-4b17-d913-8e3f28bf4468"
      },
      "execution_count": null,
      "outputs": [
        {
          "output_type": "stream",
          "name": "stdout",
          "text": [
            "Bu Shinta berkata, \"berikut adalah judul pelajaran hari senin selasa rabu silakan disimpan di laptop masing-masing di folder local disk D:\\Jadwal Pelajaran\\Kelas XI Semester I.\"\n",
            "\n",
            "Jadwal Pelajaran Mingguan\n",
            "===============================\n",
            "Jam\tsenin\t\tselasa\t\trabu\n",
            "Jam 1\tMatematika\tBahasa\t\tInformatika\n",
            "Jam 2\tBahasa Ing.\tSejarah\t\tMa'rifatullah\n",
            "Jam 3\tInformatika\tOlahraga\tBiologi\n"
          ]
        }
      ]
    },
    {
      "cell_type": "markdown",
      "source": [
        "Latihan soal\n",
        "\n",
        "1. Tampilkan teks bebas:Hari ini saya bahagia belajar bahasa phyton\n",
        "2.Tampilkan nilai variabel:mata_pelajaran_favorit = Kode dan Kecerdasan Buatan\n",
        "3.Tampilkan nilai variabel:nilai_kka = 100\n",
        "4.Tampilkan teks bebas dan nilai variabel dengan  tiga metode(f string, \"+\",\",\"):\"Nilai KKA saya adalah {nilai_kka} loh!\""
      ],
      "metadata": {
        "id": "M2QPgQ_LGpVW"
      }
    },
    {
      "cell_type": "markdown",
      "source": [
        "#Jawaban dari soal di atas"
      ],
      "metadata": {
        "id": "DV1YbFmZGgcV"
      }
    },
    {
      "cell_type": "code",
      "source": [
        "print(\"Hari ini saya bahagia belajar bahasa phyton\")"
      ],
      "metadata": {
        "colab": {
          "base_uri": "https://localhost:8080/"
        },
        "id": "YTyn0RJoGmYc",
        "outputId": "63c5db30-ebfd-4722-db4f-5652fffe26d2"
      },
      "execution_count": null,
      "outputs": [
        {
          "output_type": "stream",
          "name": "stdout",
          "text": [
            "Hari ini saya bahagia belajar bahasa phyton\n"
          ]
        }
      ]
    },
    {
      "cell_type": "code",
      "source": [
        "mata_pelajaran_favorit = \"Kode dan Kecerdasan Buatan\"\n",
        "print(mata_pelajaran_favorit)"
      ],
      "metadata": {
        "colab": {
          "base_uri": "https://localhost:8080/"
        },
        "id": "AKVMmxvCG5FS",
        "outputId": "425b33cc-a0fc-473f-b6ba-1b21215582be"
      },
      "execution_count": null,
      "outputs": [
        {
          "output_type": "stream",
          "name": "stdout",
          "text": [
            "Kode dan Kecerdasan Buatan\n"
          ]
        }
      ]
    },
    {
      "cell_type": "code",
      "source": [
        "nilai_kka = 100\n",
        "print(nilai_kka)"
      ],
      "metadata": {
        "colab": {
          "base_uri": "https://localhost:8080/"
        },
        "id": "r0Dyk9fOIj8q",
        "outputId": "b59b41c7-0569-4ec2-f52a-9ef4226226d6"
      },
      "execution_count": null,
      "outputs": [
        {
          "output_type": "stream",
          "name": "stdout",
          "text": [
            "100\n"
          ]
        }
      ]
    },
    {
      "cell_type": "code",
      "source": [
        "nilai_kka = 100\n",
        "print(f\"Nilai KKA saya adalah {nilai_kka} loh!\")"
      ],
      "metadata": {
        "colab": {
          "base_uri": "https://localhost:8080/"
        },
        "id": "xZbx25R6TUyU",
        "outputId": "22243b39-91a2-426c-9f26-c2c86e9975fc"
      },
      "execution_count": null,
      "outputs": [
        {
          "output_type": "stream",
          "name": "stdout",
          "text": [
            "Nilai KKA saya adalah 100 loh!\n"
          ]
        }
      ]
    },
    {
      "cell_type": "code",
      "source": [
        "nilai_kka = 100\n",
        "print(\"Nilai KKA saya adalah\",nilai_kka, \"loh!\")"
      ],
      "metadata": {
        "colab": {
          "base_uri": "https://localhost:8080/"
        },
        "id": "zjz5UuEYUO3s",
        "outputId": "f2f54c03-dec0-4e20-94a9-041bfa75b15a"
      },
      "execution_count": null,
      "outputs": [
        {
          "output_type": "stream",
          "name": "stdout",
          "text": [
            "Nilai KKA saya adalah 100 loh!\n"
          ]
        }
      ]
    },
    {
      "cell_type": "code",
      "source": [
        "nilai_kka = 100\n",
        "print(\"Nilai KKA saya adalah \" + str(nilai_kka) + \" loh!\")"
      ],
      "metadata": {
        "colab": {
          "base_uri": "https://localhost:8080/"
        },
        "id": "pvSUeOBXUqwi",
        "outputId": "a07df620-094a-44af-8437-6aec061ea856"
      },
      "execution_count": null,
      "outputs": [
        {
          "output_type": "stream",
          "name": "stdout",
          "text": [
            "Nilai KKA saya adalah 100 loh!\n"
          ]
        }
      ]
    },
    {
      "cell_type": "markdown",
      "source": [
        "#Parameter Fungsi"
      ],
      "metadata": {
        "id": "rEThYisYQ9rl"
      }
    },
    {
      "cell_type": "code",
      "source": [
        "nama_hama_1 = \"Naufal\"\n",
        "nama_hama_2 = \"Favian\"\n",
        "nama_hama_3 = \"Humaira\"\n",
        "\n",
        "print(nama_hama_1, nama_hama_2, nama_hama_3, nama_hama_2,  sep=\"~\")"
      ],
      "metadata": {
        "colab": {
          "base_uri": "https://localhost:8080/"
        },
        "id": "K0mqr522RBRy",
        "outputId": "45ace107-73f3-4e6f-ab7b-f3cb6f1ee7db"
      },
      "execution_count": null,
      "outputs": [
        {
          "output_type": "stream",
          "name": "stdout",
          "text": [
            "Naufal~Favian~Humaira~Favian\n"
          ]
        }
      ]
    },
    {
      "cell_type": "code",
      "source": [
        "nama_hama_1 = \"Naufal\"\n",
        "nama_hama_2 = \"Favian\"\n",
        "nama_hama_3 = \"Humaira\"\n",
        "print(nama_hama_2, end=\"~\")\n",
        "print(nama_hama_1)\n",
        "print(nama_hama_3, end=\"~\")\n",
        "print(nama_hama_1)"
      ],
      "metadata": {
        "id": "ODbvYXEfREq5",
        "outputId": "aa1f16dc-770e-4c19-8f10-6a98681cd55a",
        "colab": {
          "base_uri": "https://localhost:8080/"
        }
      },
      "execution_count": null,
      "outputs": [
        {
          "output_type": "stream",
          "name": "stdout",
          "text": [
            "Favian~Naufal\n",
            "Humaira~Naufal\n"
          ]
        }
      ]
    }
  ]
}